{
 "cells": [
  {
   "cell_type": "code",
   "execution_count": 3,
   "metadata": {
    "collapsed": false
   },
   "outputs": [],
   "source": [
    "%matplotlib inline\n",
    "\n",
    "import matplotlib\n",
    "import numpy as np\n",
    "import matplotlib.pyplot as plt\n",
    "\n",
    "plt.rcParams['figure.figsize'] = (12, 8)\n",
    "\n",
    "#Load text file \n",
    "\n",
    "def load_log(file):\n",
    "    results = []\n",
    "    with open(file) as f:\n",
    "        for line in f:\n",
    "            if '* Prec@1' in line: \n",
    "                line = line.split()\n",
    "                results.append(float(line[-1]))\n",
    "    return results"
   ]
  },
  {
   "cell_type": "code",
   "execution_count": 4,
   "metadata": {
    "collapsed": false
   },
   "outputs": [
    {
     "ename": "FileNotFoundError",
     "evalue": "[Errno 2] No such file or directory: 'log_vgg11'",
     "output_type": "error",
     "traceback": [
      "\u001B[0;31m---------------------------------------------------------------------------\u001B[0m",
      "\u001B[0;31mFileNotFoundError\u001B[0m                         Traceback (most recent call last)",
      "Input \u001B[0;32mIn [4]\u001B[0m, in \u001B[0;36m<cell line: 2>\u001B[0;34m()\u001B[0m\n\u001B[1;32m      1\u001B[0m shows \u001B[38;5;241m=\u001B[39m {}\n\u001B[0;32m----> 2\u001B[0m shows[\u001B[38;5;124m'\u001B[39m\u001B[38;5;124mvgg11\u001B[39m\u001B[38;5;124m'\u001B[39m] \u001B[38;5;241m=\u001B[39m \u001B[43mload_log\u001B[49m\u001B[43m(\u001B[49m\u001B[38;5;124;43m'\u001B[39;49m\u001B[38;5;124;43mlog_vgg11\u001B[39;49m\u001B[38;5;124;43m'\u001B[39;49m\u001B[43m)\u001B[49m\n\u001B[1;32m      3\u001B[0m shows[\u001B[38;5;124m'\u001B[39m\u001B[38;5;124mvgg11_half\u001B[39m\u001B[38;5;124m'\u001B[39m] \u001B[38;5;241m=\u001B[39m load_log(\u001B[38;5;124m'\u001B[39m\u001B[38;5;124mlog_half_vgg11\u001B[39m\u001B[38;5;124m'\u001B[39m)\n\u001B[1;32m      4\u001B[0m \u001B[38;5;66;03m#shows['vgg11_bn'] = load_log('log_vgg11_bn')\u001B[39;00m\n\u001B[1;32m      5\u001B[0m \u001B[38;5;66;03m#shows['vgg11_half_bn'] = load_log('log_half_vgg11_bn')\u001B[39;00m\n",
      "Input \u001B[0;32mIn [3]\u001B[0m, in \u001B[0;36mload_log\u001B[0;34m(file)\u001B[0m\n\u001B[1;32m     11\u001B[0m \u001B[38;5;28;01mdef\u001B[39;00m \u001B[38;5;21mload_log\u001B[39m(file):\n\u001B[1;32m     12\u001B[0m     results \u001B[38;5;241m=\u001B[39m []\n\u001B[0;32m---> 13\u001B[0m     \u001B[38;5;28;01mwith\u001B[39;00m \u001B[38;5;28;43mopen\u001B[39;49m\u001B[43m(\u001B[49m\u001B[43mfile\u001B[49m\u001B[43m)\u001B[49m \u001B[38;5;28;01mas\u001B[39;00m f:\n\u001B[1;32m     14\u001B[0m         \u001B[38;5;28;01mfor\u001B[39;00m line \u001B[38;5;129;01min\u001B[39;00m f:\n\u001B[1;32m     15\u001B[0m             \u001B[38;5;28;01mif\u001B[39;00m \u001B[38;5;124m'\u001B[39m\u001B[38;5;124m* Prec@1\u001B[39m\u001B[38;5;124m'\u001B[39m \u001B[38;5;129;01min\u001B[39;00m line: \n",
      "\u001B[0;31mFileNotFoundError\u001B[0m: [Errno 2] No such file or directory: 'log_vgg11'"
     ]
    }
   ],
   "source": [
    "shows = {}\n",
    "shows['vgg11'] = load_log('log_vgg11')\n",
    "shows['vgg11_half'] = load_log('log_half_vgg11')\n",
    "#shows['vgg11_bn'] = load_log('log_vgg11_bn')\n",
    "#shows['vgg11_half_bn'] = load_log('log_half_vgg11_bn')\n",
    "\n",
    "shows['vgg13'] = load_log('log_vgg13')\n",
    "shows['vgg13_half'] = load_log('log_half_vgg13')\n",
    "#shows['vgg13_bn'] = load_log('log_vgg13_bn')\n",
    "#shows['vgg13_half_bn'] = load_log('log_half_vgg13_bn')\n"
   ]
  },
  {
   "cell_type": "code",
   "execution_count": null,
   "metadata": {
    "collapsed": false
   },
   "outputs": [],
   "source": [
    "#epochs = np.arange(1,1+len(shows['vgg11']))\n",
    "#epochs = np.arange(1, 301)\n",
    "\n",
    "for key in sorted(shows.keys()):\n",
    "    epochs = np.arange(1, 1+len(shows[key]))\n",
    "    plt.plot(epochs, shows[key], label='{}:{}'.format(key, np.max(shows[key])))\n",
    "    \n",
    "\n",
    "#plt.legend(shows.keys(), loc='upper left')\n",
    "plt.legend(bbox_to_anchor=(1.05, 1), loc=2, borderaxespad=0.)"
   ]
  },
  {
   "cell_type": "code",
   "execution_count": null,
   "metadata": {
    "collapsed": true
   },
   "outputs": [],
   "source": []
  }
 ],
 "metadata": {
  "interpreter": {
   "hash": "b40e8fefbbad258a66ad4b3a1c9d5cec9c956cca3c9d68730a2d3ef07128da02"
  },
  "kernelspec": {
   "display_name": "Python 2",
   "language": "python",
   "name": "python3"
  },
  "language_info": {
   "codemirror_mode": {
    "name": "ipython",
    "version": 3
   },
   "file_extension": ".py",
   "mimetype": "text/x-python",
   "name": "python",
   "nbconvert_exporter": "python",
   "pygments_lexer": "ipython3",
   "version": "3.8.12"
  }
 },
 "nbformat": 4,
 "nbformat_minor": 1
}