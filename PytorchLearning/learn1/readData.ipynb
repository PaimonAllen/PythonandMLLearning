{
 "cells": [
  {
   "cell_type": "code",
   "execution_count": 2,
   "metadata": {},
   "outputs": [
    {
     "name": "stdout",
     "output_type": "stream",
     "text": [
      "<__main__.MyData object at 0x7fe33d1a87c0>\n",
      "<__main__.MyData object at 0x7fe33d1a8850>\n"
     ]
    }
   ],
   "source": [
    "# 读取数据\n",
    "from torch.utils.data import Dataset, DataLoader\n",
    "import numpy as np\n",
    "from PIL import Image\n",
    "import os\n",
    "from torchvision import transforms\n",
    "from torch.utils.tensorboard import SummaryWriter\n",
    "from torchvision.utils import make_grid\n",
    "\n",
    "writer = SummaryWriter(\"logs\")\n",
    "\n",
    "\n",
    "class MyData(Dataset):\n",
    "\n",
    "    def __init__(self, root_dir, image_dir, label_dir, transform):\n",
    "        self.root_dir = root_dir\n",
    "        self.image_dir = image_dir\n",
    "        self.label_dir = label_dir\n",
    "        self.label_path = os.path.join(self.root_dir, self.label_dir)\n",
    "        self.image_path = os.path.join(self.root_dir, self.image_dir)\n",
    "        self.image_list = os.listdir(self.image_path)\n",
    "        self.label_list = os.listdir(self.label_path)\n",
    "        self.transform = transform\n",
    "        # 因为label 和 Image文件名相同，进行一样的排序，可以保证取出的数据和label是一一对应的\n",
    "        self.image_list.sort()\n",
    "        self.label_list.sort()\n",
    "\n",
    "    def __getitem__(self, idx):\n",
    "        img_name = self.image_list[idx]\n",
    "        label_name = self.label_list[idx]\n",
    "        img_item_path = os.path.join(self.root_dir, self.image_dir, img_name)\n",
    "        label_item_path = os.path.join(\n",
    "            self.root_dir, self.label_dir, label_name)\n",
    "        img = Image.open(img_item_path)\n",
    "\n",
    "        with open(label_item_path, 'r') as f:\n",
    "            label = f.readline()\n",
    "\n",
    "        # img = np.array(img)\n",
    "        img = self.transform(img)\n",
    "        sample = {'img': img, 'label': label}\n",
    "        return sample\n",
    "\n",
    "    def __len__(self):\n",
    "        assert len(self.image_list) == len(self.label_list)\n",
    "        return len(self.image_list)\n",
    "\n",
    "\n",
    "if __name__ == '__main__':\n",
    "    transform = transforms.Compose(\n",
    "        [transforms.Resize((256, 256)), transforms.ToTensor()])\n",
    "    root_dir = \"/home/tzr/Data_ML/Pytorch/demo1/hymenoptera_data/train\"\n",
    "    image_ants = \"ants_image\"\n",
    "    label_ants = \"ants_label\"\n",
    "    ants_dataset = MyData(root_dir, image_ants, label_ants, transform)\n",
    "    image_bees = \"bees_image\"\n",
    "    label_bees = \"bees_label\"\n",
    "    bees_dataset = MyData(root_dir, image_bees, label_bees, transform)\n",
    "    train_dataset = ants_dataset + bees_dataset\n",
    "\n",
    "    # transforms = transforms.Compose([transforms.Resize(256, 256)])\n",
    "    dataloader = DataLoader(train_dataset, batch_size=1, num_workers=2)\n",
    "\n",
    "    writer.add_image('error', train_dataset[1]['img'])\n",
    "    writer.close()\n",
    "    # for i, j in enumerate(dataloader):\n",
    "    #     # imgs, labels = j\n",
    "    #     print(type(j))\n",
    "    #     print(i, j['img'].shape)\n",
    "    #     # writer.add_image(\"train_data_b2\", make_grid(j['img']), i)\n",
    "\n",
    "    # writer.close()\n",
    "    print(ants_dataset)\n",
    "    print(bees_dataset)\n"
   ]
  },
  {
   "cell_type": "code",
   "execution_count": 31,
   "metadata": {},
   "outputs": [],
   "source": [
    "# dir_path = \"/home/tzr/Data_ML/Pytorch/demo1/hymenoptera_data/hymenoptera_data/train/ants\"\n",
    "# image_path_list = os.listdir(dir_path)\n",
    "# print(image_path_list)\n"
   ]
  }
 ],
 "metadata": {
  "interpreter": {
   "hash": "b40e8fefbbad258a66ad4b3a1c9d5cec9c956cca3c9d68730a2d3ef07128da02"
  },
  "kernelspec": {
   "display_name": "Python 3.8.12 ('RockLab')",
   "language": "python",
   "name": "python3"
  },
  "language_info": {
   "codemirror_mode": {
    "name": "ipython",
    "version": 3
   },
   "file_extension": ".py",
   "mimetype": "text/x-python",
   "name": "python",
   "nbconvert_exporter": "python",
   "pygments_lexer": "ipython3",
   "version": "3.8.12"
  },
  "orig_nbformat": 4
 },
 "nbformat": 4,
 "nbformat_minor": 2
}
