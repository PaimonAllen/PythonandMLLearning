{
 "cells": [
  {
   "cell_type": "code",
   "execution_count": 14,
   "metadata": {},
   "outputs": [
    {
     "name": "stdout",
     "output_type": "stream",
     "text": [
      "Files already downloaded and verified\n",
      "Files already downloaded and verified\n"
     ]
    }
   ],
   "source": [
    "import torchvision\n",
    "from torch.utils.tensorboard import SummaryWriter\n",
    "\n",
    "dataset_transform = torchvision.transforms.Compose([\n",
    "    torchvision.transforms.ToTensor()\n",
    "])\n",
    "\n",
    "train_set = torchvision.datasets.CIFAR10(\n",
    "    root=\"./dataset\", train=True, transform=dataset_transform, download=True)\n",
    "test_set = torchvision.datasets.CIFAR10(\n",
    "    root=\"./dataset\", train=False, transform=dataset_transform, download=True)\n",
    "\n",
    "# print(test_set[0])\n",
    "# print(test_set.classes)\n",
    "#\n",
    "# img, target = test_set[0]\n",
    "# print(img)\n",
    "# print(target)\n",
    "# print(test_set.classes[target])\n",
    "# img.show()\n",
    "#\n",
    "# print(test_set[0])\n",
    "\n",
    "writer = SummaryWriter(\"p10\")\n",
    "for i in range(10):\n",
    "    img, target = test_set[i]\n",
    "    writer.add_image(\"test_set\", img, i)\n",
    "\n",
    "writer.close()\n"
   ]
  }
 ],
 "metadata": {
  "interpreter": {
   "hash": "b40e8fefbbad258a66ad4b3a1c9d5cec9c956cca3c9d68730a2d3ef07128da02"
  },
  "kernelspec": {
   "display_name": "Python 3.8.12 ('RockLab')",
   "language": "python",
   "name": "python3"
  },
  "language_info": {
   "codemirror_mode": {
    "name": "ipython",
    "version": 3
   },
   "file_extension": ".py",
   "mimetype": "text/x-python",
   "name": "python",
   "nbconvert_exporter": "python",
   "pygments_lexer": "ipython3",
   "version": "3.8.12"
  },
  "orig_nbformat": 4
 },
 "nbformat": 4,
 "nbformat_minor": 2
}
