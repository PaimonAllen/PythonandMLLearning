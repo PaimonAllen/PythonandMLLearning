{
 "cells": [
  {
   "cell_type": "code",
   "execution_count": 8,
   "metadata": {},
   "outputs": [
    {
     "name": "stdout",
     "output_type": "stream",
     "text": [
      "torch.Size([3, 32, 32])\n",
      "3\n"
     ]
    }
   ],
   "source": [
    "import torchvision\n",
    "\n",
    "# 准备的测试数据集\n",
    "from torch.utils.data import DataLoader\n",
    "from torch.utils.tensorboard import SummaryWriter\n",
    "\n",
    "# 获取数据集\n",
    "test_data = torchvision.datasets.CIFAR10(\n",
    "    \"./dataset\", train=False, transform=torchvision.transforms.ToTensor())\n",
    "\n",
    "test_loader = DataLoader(dataset=test_data, batch_size=64,\n",
    "                         shuffle=True, num_workers=0, drop_last=False)\n",
    "\n",
    "# 测试数据集中第一张图片及target\n",
    "img, target = test_data[0]\n",
    "print(img.shape)\n",
    "print(target)\n",
    "\n",
    "# 保存日志\n",
    "writer = SummaryWriter(\"dataloader\")\n",
    "for epoch in range(2):\n",
    "    step = 0\n",
    "    for data in test_loader:\n",
    "        imgs, targets = data\n",
    "        # print(imgs.shape)\n",
    "        # print(targets)\n",
    "        writer.add_images(f\"Epoch: {epoch}\", imgs, step)\n",
    "        # 或者\n",
    "        # writer.add_images(\"Epoch: {}\".format(epoch), imgs, step)\n",
    "        step += 1\n",
    "\n",
    "writer.close()\n"
   ]
  }
 ],
 "metadata": {
  "interpreter": {
   "hash": "b40e8fefbbad258a66ad4b3a1c9d5cec9c956cca3c9d68730a2d3ef07128da02"
  },
  "kernelspec": {
   "display_name": "Python 3.8.12 ('RockLab')",
   "language": "python",
   "name": "python3"
  },
  "language_info": {
   "codemirror_mode": {
    "name": "ipython",
    "version": 3
   },
   "file_extension": ".py",
   "mimetype": "text/x-python",
   "name": "python",
   "nbconvert_exporter": "python",
   "pygments_lexer": "ipython3",
   "version": "3.8.12"
  },
  "orig_nbformat": 4
 },
 "nbformat": 4,
 "nbformat_minor": 2
}
