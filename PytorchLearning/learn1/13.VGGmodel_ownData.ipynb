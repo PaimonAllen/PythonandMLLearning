{
 "cells": [
  {
   "cell_type": "code",
   "execution_count": 5,
   "metadata": {},
   "outputs": [
    {
     "name": "stdout",
     "output_type": "stream",
     "text": [
      "<PIL.JpegImagePlugin.JpegImageFile image mode=RGB size=479x359 at 0x7F95902C30A0>\n",
      "torch.Size([3, 32, 32])\n",
      "tensor([[ 2.3073, -2.8512,  2.0010,  0.9555,  0.4021,  1.4419, -2.6027,  1.5513,\n",
      "         -1.3286, -4.0158]])\n",
      "tensor([0])\n"
     ]
    }
   ],
   "source": [
    "# -*- coding: utf-8 -*-\n",
    "# VGG模型验证\n",
    "\n",
    "import torch\n",
    "import torchvision\n",
    "from PIL import Image\n",
    "from torch import nn\n",
    "\n",
    "image_path = \"dataset/bees/train/ants_image/175998972.jpg\"\n",
    "image = Image.open(image_path)\n",
    "print(image)\n",
    "image = image.convert('RGB')\n",
    "transform = torchvision.transforms.Compose([torchvision.transforms.Resize((32, 32)),\n",
    "                                            torchvision.transforms.ToTensor()])\n",
    "# 转为tensor类\n",
    "image = transform(image)\n",
    "print(image.shape)\n",
    "\n",
    "class VGG(nn.Module):\n",
    "    def __init__(self):\n",
    "        super(VGG, self).__init__()\n",
    "        self.model = nn.Sequential(\n",
    "            nn.Conv2d(3, 32, 5, 1, 2),\n",
    "            nn.MaxPool2d(2),\n",
    "            nn.Conv2d(32, 32, 5, 1, 2),\n",
    "            nn.MaxPool2d(2),\n",
    "            nn.Conv2d(32, 64, 5, 1, 2),\n",
    "            nn.MaxPool2d(2),\n",
    "            nn.Flatten(),\n",
    "            nn.Linear(64*4*4, 64),\n",
    "            nn.Linear(64, 10)\n",
    "        )\n",
    "\n",
    "    def forward(self, x):\n",
    "        x = self.model(x)\n",
    "        return x\n",
    "\n",
    "model = torch.load(\"./vggmodel/vgg_19.pth\", map_location=torch.device('cpu'))\n",
    "# print(model)\n",
    "image = torch.reshape(image, (1, 3, 32, 32))\n",
    "model.eval()\n",
    "with torch.no_grad():\n",
    "    output = model(image)\n",
    "print(output)\n",
    "\n",
    "print(output.argmax(1))\n"
   ]
  }
 ],
 "metadata": {
  "interpreter": {
   "hash": "b40e8fefbbad258a66ad4b3a1c9d5cec9c956cca3c9d68730a2d3ef07128da02"
  },
  "kernelspec": {
   "display_name": "Python 3.8.12 ('RockLab')",
   "language": "python",
   "name": "python3"
  },
  "language_info": {
   "codemirror_mode": {
    "name": "ipython",
    "version": 3
   },
   "file_extension": ".py",
   "mimetype": "text/x-python",
   "name": "python",
   "nbconvert_exporter": "python",
   "pygments_lexer": "ipython3",
   "version": "3.8.8"
  },
  "orig_nbformat": 4
 },
 "nbformat": 4,
 "nbformat_minor": 2
}