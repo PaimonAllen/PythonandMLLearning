{
 "cells": [
  {
   "cell_type": "code",
   "execution_count": 1,
   "metadata": {
    "collapsed": true
   },
   "outputs": [
    {
     "name": "stdout",
     "output_type": "stream",
     "text": [
      "Files already downloaded and verified\n"
     ]
    },
    {
     "name": "stderr",
     "output_type": "stream",
     "text": [
      "/home/tzr/anaconda3/envs/RockLabTorch/lib/python3.8/site-packages/torch/nn/functional.py:718: UserWarning: Named tensors and all their associated APIs are an experimental feature and subject to change. Please do not use them for anything important until they are released as stable. (Triggered internally at  /opt/conda/conda-bld/pytorch_1623448234945/work/c10/core/TensorImpl.h:1156.)\n",
      "  return torch.max_pool2d(input, kernel_size, stride, padding, dilation, ceil_mode)\n"
     ]
    },
    {
     "name": "stdout",
     "output_type": "stream",
     "text": [
      "tensor(18741.5703, grad_fn=<AddBackward0>)\n",
      "tensor(16267.3086, grad_fn=<AddBackward0>)\n",
      "tensor(15428.3965, grad_fn=<AddBackward0>)\n",
      "tensor(15897.3623, grad_fn=<AddBackward0>)\n",
      "tensor(17537.4902, grad_fn=<AddBackward0>)\n",
      "tensor(19648.0527, grad_fn=<AddBackward0>)\n",
      "tensor(22032.9082, grad_fn=<AddBackward0>)\n",
      "tensor(23536.8691, grad_fn=<AddBackward0>)\n",
      "tensor(23814.1523, grad_fn=<AddBackward0>)\n",
      "tensor(24695.5234, grad_fn=<AddBackward0>)\n",
      "tensor(25258.1465, grad_fn=<AddBackward0>)\n",
      "tensor(26104.7305, grad_fn=<AddBackward0>)\n",
      "tensor(26601.7012, grad_fn=<AddBackward0>)\n",
      "tensor(26752.1230, grad_fn=<AddBackward0>)\n",
      "tensor(27588.6152, grad_fn=<AddBackward0>)\n",
      "tensor(30675.3184, grad_fn=<AddBackward0>)\n",
      "tensor(nan, grad_fn=<AddBackward0>)\n",
      "tensor(nan, grad_fn=<AddBackward0>)\n",
      "tensor(nan, grad_fn=<AddBackward0>)\n",
      "tensor(nan, grad_fn=<AddBackward0>)\n"
     ]
    }
   ],
   "source": [
    "import torch\n",
    "import torchvision\n",
    "from torch import nn\n",
    "from torch.nn import Sequential, Conv2d, MaxPool2d, Flatten, Linear\n",
    "from torch.optim.lr_scheduler import StepLR\n",
    "from torch.utils.data import DataLoader\n",
    "\n",
    "dataset = torchvision.datasets.CIFAR10(\"./dataset/\", train=False, transform=torchvision.transforms.ToTensor(),\n",
    "                                       download=True)\n",
    "\n",
    "dataloader = DataLoader(dataset, batch_size=1)\n",
    "\n",
    "class MyNN(nn.Module):\n",
    "    def __init__(self):\n",
    "        # super(MyNN, self).__init__()\n",
    "        super(MyNN, self).__init__()\n",
    "        self.model1 = Sequential(\n",
    "            Conv2d(3, 32, 5, padding=2),\n",
    "            MaxPool2d(2),\n",
    "            Conv2d(32, 32, 5, padding=2),\n",
    "            MaxPool2d(2),\n",
    "            Conv2d(32, 64, 5, padding=2),\n",
    "            MaxPool2d(2),\n",
    "            Flatten(),\n",
    "            Linear(1024, 64),\n",
    "            Linear(64, 10)\n",
    "        )\n",
    "\n",
    "    def forward(self, x):\n",
    "        x = self.model1(x)\n",
    "        return x\n",
    "\n",
    "\n",
    "loss = nn.CrossEntropyLoss()\n",
    "myNN = MyNN()\n",
    "optim = torch.optim.SGD(myNN.parameters(),lr=0.01)\n",
    "for epoch in range(20):\n",
    "    running_loss = 0.0\n",
    "    for data in dataloader:\n",
    "        imgs, targets = data\n",
    "        outputs = myNN(imgs)\n",
    "        result_loss = loss(outputs, targets)\n",
    "        # 注意每次循环要清零\n",
    "        optim.zero_grad()\n",
    "        result_loss.backward()\n",
    "        optim.step()\n",
    "        running_loss = running_loss + result_loss\n",
    "    print(running_loss)"
   ]
  }
 ],
 "metadata": {
  "kernelspec": {
   "display_name": "Python 3",
   "language": "python",
   "name": "python3"
  },
  "language_info": {
   "codemirror_mode": {
    "name": "ipython",
    "version": 2
   },
   "file_extension": ".py",
   "mimetype": "text/x-python",
   "name": "python",
   "nbconvert_exporter": "python",
   "pygments_lexer": "ipython2",
   "version": "2.7.6"
  }
 },
 "nbformat": 4,
 "nbformat_minor": 0
}