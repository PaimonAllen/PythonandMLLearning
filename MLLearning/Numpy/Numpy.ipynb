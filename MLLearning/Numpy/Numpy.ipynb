{
 "cells": [
  {
   "cell_type": "markdown",
   "metadata": {},
   "source": [
    "## 初始numpy"
   ]
  },
  {
   "cell_type": "code",
   "execution_count": 1,
   "metadata": {},
   "outputs": [],
   "source": [
    "import numpy as np\n",
    "score = np.array(\n",
    "[[80, 89, 86, 67, 79],\n",
    "[78, 97, 89, 67, 81],\n",
    "[90, 94, 78, 67, 74],\n",
    "[91, 91, 90, 67, 69],\n",
    "[76, 87, 75, 67, 86],\n",
    "[70, 79, 84, 67, 84],\n",
    "[94, 92, 93, 67, 64],\n",
    "[86, 85, 83, 67, 80]]\n",
    ")"
   ]
  },
  {
   "cell_type": "code",
   "execution_count": 2,
   "metadata": {},
   "outputs": [
    {
     "name": "stdout",
     "output_type": "stream",
     "text": [
      "3.8.12 (default, Oct 12 2021, 13:49:34) \n",
      "[GCC 7.5.0]\n"
     ]
    }
   ],
   "source": [
    "score\n",
    "import sys\n",
    "print(sys.version)"
   ]
  },
  {
   "cell_type": "markdown",
   "metadata": {},
   "source": [
    "## ndarray和原生Python效率对比"
   ]
  },
  {
   "cell_type": "code",
   "execution_count": 3,
   "metadata": {},
   "outputs": [
    {
     "name": "stdout",
     "output_type": "stream",
     "text": [
      "CPU times: user 367 ms, sys: 157 µs, total: 367 ms\n",
      "Wall time: 367 ms\n",
      "CPU times: user 39.2 ms, sys: 0 ns, total: 39.2 ms\n",
      "Wall time: 39 ms\n"
     ]
    }
   ],
   "source": [
    "import random\n",
    "import time\n",
    "import numpy as np\n",
    "a = []\n",
    "for i in range(100000000):\n",
    "    a.append(random.random())\n",
    "\n",
    "# 通过%time魔法方法, 查看当前行的代码运行一次所花费的时间\n",
    "%time sum1=sum(a)\n",
    "\n",
    "b=np.array(a)\n",
    "\n",
    "%time sum2=np.sum(b)"
   ]
  },
  {
   "cell_type": "markdown",
   "metadata": {},
   "source": [
    "# ndarray的使用\n",
    "## 数组的属性"
   ]
  },
  {
   "cell_type": "code",
   "execution_count": 4,
   "metadata": {},
   "outputs": [
    {
     "data": {
      "text/plain": "(8, 5)"
     },
     "execution_count": 4,
     "metadata": {},
     "output_type": "execute_result"
    }
   ],
   "source": [
    "#返回ndarray的形状\n",
    "score.shape"
   ]
  },
  {
   "cell_type": "code",
   "execution_count": 5,
   "metadata": {},
   "outputs": [
    {
     "data": {
      "text/plain": "2"
     },
     "execution_count": 5,
     "metadata": {},
     "output_type": "execute_result"
    }
   ],
   "source": [
    "#数组维数\n",
    "score.ndim"
   ]
  },
  {
   "cell_type": "code",
   "execution_count": 6,
   "metadata": {},
   "outputs": [
    {
     "data": {
      "text/plain": "40"
     },
     "execution_count": 6,
     "metadata": {},
     "output_type": "execute_result"
    }
   ],
   "source": [
    "#数组中的元素数量\n",
    "score.size"
   ]
  },
  {
   "cell_type": "code",
   "execution_count": 7,
   "metadata": {},
   "outputs": [
    {
     "data": {
      "text/plain": "8"
     },
     "execution_count": 7,
     "metadata": {},
     "output_type": "execute_result"
    }
   ],
   "source": [
    "#一个数组元素的长度（字节）\n",
    "score.itemsize"
   ]
  },
  {
   "cell_type": "code",
   "execution_count": 8,
   "metadata": {},
   "outputs": [
    {
     "data": {
      "text/plain": "dtype('int64')"
     },
     "execution_count": 8,
     "metadata": {},
     "output_type": "execute_result"
    }
   ],
   "source": [
    "#数组元素的类型\n",
    "score.dtype"
   ]
  },
  {
   "cell_type": "code",
   "execution_count": 9,
   "metadata": {},
   "outputs": [
    {
     "data": {
      "text/plain": "array([[1., 2., 3.],\n       [4., 5., 6.]], dtype=float32)"
     },
     "execution_count": 9,
     "metadata": {},
     "output_type": "execute_result"
    }
   ],
   "source": [
    "#数组的类型\n",
    "b = np.array([[1, 2, 3], [4, 5, 6]], dtype=np.float32)\n",
    "b #输出b所有属性"
   ]
  },
  {
   "cell_type": "code",
   "execution_count": 10,
   "metadata": {},
   "outputs": [
    {
     "data": {
      "text/plain": "array([[1., 1., 1., 1., 1., 1., 1., 1.],\n       [1., 1., 1., 1., 1., 1., 1., 1.],\n       [1., 1., 1., 1., 1., 1., 1., 1.],\n       [1., 1., 1., 1., 1., 1., 1., 1.]])"
     },
     "execution_count": 10,
     "metadata": {},
     "output_type": "execute_result"
    }
   ],
   "source": [
    "#生成0和1的数组\n",
    "ones = np.ones([4,8])\n",
    "ones"
   ]
  },
  {
   "cell_type": "code",
   "execution_count": 11,
   "metadata": {},
   "outputs": [
    {
     "data": {
      "text/plain": "array([[0., 0., 0., 0., 0., 0., 0., 0.],\n       [0., 0., 0., 0., 0., 0., 0., 0.],\n       [0., 0., 0., 0., 0., 0., 0., 0.],\n       [0., 0., 0., 0., 0., 0., 0., 0.]])"
     },
     "execution_count": 11,
     "metadata": {},
     "output_type": "execute_result"
    }
   ],
   "source": [
    "np.zeros_like(ones)"
   ]
  },
  {
   "cell_type": "markdown",
   "metadata": {},
   "source": [
    "## 从现在数组中生成"
   ]
  },
  {
   "cell_type": "code",
   "execution_count": 12,
   "metadata": {},
   "outputs": [
    {
     "data": {
      "text/plain": "array([[1, 2, 3],\n       [4, 5, 6]])"
     },
     "execution_count": 12,
     "metadata": {},
     "output_type": "execute_result"
    }
   ],
   "source": [
    "a = np.array([[1, 2, 3], [4, 5, 6]])\n",
    "a"
   ]
  },
  {
   "cell_type": "code",
   "execution_count": 13,
   "metadata": {},
   "outputs": [
    {
     "data": {
      "text/plain": "array([[1, 2, 3],\n       [4, 5, 6]])"
     },
     "execution_count": 13,
     "metadata": {},
     "output_type": "execute_result"
    }
   ],
   "source": [
    "a1 = np.array(a) # 深拷贝\n",
    "a1"
   ]
  },
  {
   "cell_type": "code",
   "execution_count": 14,
   "metadata": {},
   "outputs": [
    {
     "data": {
      "text/plain": "array([[1, 2, 3],\n       [4, 5, 6]])"
     },
     "execution_count": 14,
     "metadata": {},
     "output_type": "execute_result"
    }
   ],
   "source": [
    "a2 = np.asarray(a) # 浅拷贝\n",
    "a2"
   ]
  },
  {
   "cell_type": "code",
   "execution_count": 15,
   "metadata": {},
   "outputs": [
    {
     "data": {
      "text/plain": "array([[1000,    2,    3],\n       [   4,    5,    6]])"
     },
     "execution_count": 15,
     "metadata": {},
     "output_type": "execute_result"
    }
   ],
   "source": [
    "a[0, 0] = 1000\n",
    "a"
   ]
  },
  {
   "cell_type": "code",
   "execution_count": 16,
   "metadata": {},
   "outputs": [
    {
     "data": {
      "text/plain": "array([[1, 2, 3],\n       [4, 5, 6]])"
     },
     "execution_count": 16,
     "metadata": {},
     "output_type": "execute_result"
    }
   ],
   "source": [
    "a1"
   ]
  },
  {
   "cell_type": "code",
   "execution_count": 17,
   "metadata": {},
   "outputs": [
    {
     "data": {
      "text/plain": "array([[1000,    2,    3],\n       [   4,    5,    6]])"
     },
     "execution_count": 17,
     "metadata": {},
     "output_type": "execute_result"
    }
   ],
   "source": [
    "a2"
   ]
  },
  {
   "cell_type": "markdown",
   "metadata": {},
   "source": [
    "## 生成固定范围的数组"
   ]
  },
  {
   "cell_type": "code",
   "execution_count": 18,
   "metadata": {},
   "outputs": [],
   "source": [
    "# 生成固定范围的数组\n",
    "# np.linspace (start, stop, num, endpoint)\n",
    "# 创建等差数组 — 指定数量\n",
    "# 参数:\n",
    "# start:序列的起始值\n",
    "# stop:序列的终止值\n",
    "# num:要生成的等间隔样例数量，默认为50\n",
    "# endpoint:序列中是否包含stop值，默认为ture\n",
    "\n",
    "# np.arange(start,stop, step, dtype)\n",
    "# 创建等差数组 — 指定步长\n",
    "# 参数\n",
    "# step:步长,默认值为1\n",
    "\n",
    "# np.logspace(start,stop, num)\n",
    "# 创建等比数列\n",
    "# 参数:\n",
    "# num:要生成的等比数列数量，默认为50"
   ]
  },
  {
   "cell_type": "code",
   "execution_count": 19,
   "metadata": {},
   "outputs": [
    {
     "data": {
      "text/plain": "array([  0.,  10.,  20.,  30.,  40.,  50.,  60.,  70.,  80.,  90., 100.])"
     },
     "execution_count": 19,
     "metadata": {},
     "output_type": "execute_result"
    }
   ],
   "source": [
    "np.linspace(0, 100, 11)"
   ]
  },
  {
   "cell_type": "code",
   "execution_count": 20,
   "metadata": {},
   "outputs": [
    {
     "data": {
      "text/plain": "array([10, 12, 14, 16, 18, 20, 22, 24, 26, 28, 30, 32, 34, 36, 38, 40, 42,\n       44, 46, 48, 50, 52, 54, 56, 58, 60, 62, 64, 66, 68, 70, 72, 74, 76,\n       78, 80, 82, 84, 86, 88, 90, 92, 94, 96, 98])"
     },
     "execution_count": 20,
     "metadata": {},
     "output_type": "execute_result"
    }
   ],
   "source": [
    "np.arange(10, 100, 2)"
   ]
  },
  {
   "cell_type": "code",
   "execution_count": 21,
   "metadata": {},
   "outputs": [
    {
     "data": {
      "text/plain": "array([  1.,  10., 100.])"
     },
     "execution_count": 21,
     "metadata": {},
     "output_type": "execute_result"
    }
   ],
   "source": [
    "np.logspace(0, 2, 3)"
   ]
  },
  {
   "cell_type": "markdown",
   "metadata": {},
   "source": [
    "## 生成随机数组\n",
    "\n"
   ]
  },
  {
   "cell_type": "code",
   "execution_count": 22,
   "metadata": {},
   "outputs": [],
   "source": [
    "# np.random模块\n",
    "# 正态分布创建方式\n",
    "\n",
    "# 最常用\n",
    "# np.random.randn(d0, d1, …, dn)\n",
    "# 功能：从标准正态分布中返回一个或多个样本值\n",
    "# np.random.normal(loc=0.0, scale=1.0, size=None)\n",
    "# 75\n",
    "# loc：float\n",
    "# 此概率分布的均值（对应着整个分布的中心centre）\n",
    "# scale：float\n",
    "# 此概率分布的标准差（对应于分布的宽度，scale越大越矮胖，scale越小，越瘦高）\n",
    "# size：int or tuple of ints\n",
    "# 输出的shape，默认为None，只输出一个值\n",
    "\n",
    "# np.random.standard_normal(size=None)\n",
    "# 返回指定形状的标准正态分布的数组。"
   ]
  },
  {
   "cell_type": "code",
   "execution_count": 23,
   "metadata": {},
   "outputs": [
    {
     "data": {
      "text/plain": "array([0.80713546, 3.69100332, 2.23368196, ..., 1.22702804, 2.89380354,\n       1.1602265 ])"
     },
     "execution_count": 23,
     "metadata": {},
     "output_type": "execute_result"
    }
   ],
   "source": [
    "#生成均值为1.75，标准差为1的正态分布数据，100000000个\n",
    "x1 = np.random.normal(1.75, 1, 100000000)\n",
    "x1"
   ]
  },
  {
   "cell_type": "code",
   "execution_count": 24,
   "metadata": {},
   "outputs": [
    {
     "data": {
      "text/plain": "<Figure size 2000x800 with 1 Axes>",
      "image/png": "[encoded data removed]"
     },
     "metadata": {
      "needs_background": "light"
     },
     "output_type": "display_data"
    }
   ],
   "source": [
    "import matplotlib.pyplot as plt\n",
    "# 1.创建画布\n",
    "plt.figure(figsize=(20, 8), dpi=100)\n",
    "\n",
    "# 2.绘制图像\n",
    "# hist绘制直方图，绘制1000组\n",
    "plt.hist(x1, 1000)\n",
    "\n",
    "# 3.显示图像\n",
    "plt.show()"
   ]
  },
  {
   "cell_type": "code",
   "execution_count": 25,
   "metadata": {},
   "outputs": [
    {
     "data": {
      "text/plain": "array([[ 0.81470303, -0.07008809,  0.90325086,  0.75497015,  1.25279964],\n       [ 0.43784316,  1.16119643,  2.09690881, -1.48171558,  1.42102934],\n       [ 1.3039884 ,  0.96537266,  0.30991197, -2.02214573, -1.51251803],\n       [-0.60707775, -0.13370665,  1.20454272,  1.06874478, -1.57394083]])"
     },
     "execution_count": 25,
     "metadata": {},
     "output_type": "execute_result"
    }
   ],
   "source": [
    "# 生成均值为0，标准差为1的正态分布数据，四行五列\n",
    "stock_change = np.random.normal(0, 1, [4,5])\n",
    "stock_change"
   ]
  },
  {
   "cell_type": "markdown",
   "metadata": {},
   "source": [
    "### 均匀分布"
   ]
  },
  {
   "cell_type": "code",
   "execution_count": 26,
   "metadata": {},
   "outputs": [
    {
     "data": {
      "text/plain": "array([ 0.22878138,  0.32658626,  0.021355  , ...,  0.42373175,\n       -0.25660953,  0.31117472])"
     },
     "execution_count": 26,
     "metadata": {},
     "output_type": "execute_result"
    }
   ],
   "source": [
    "# np.random.rand(d0, d1, ..., dn)\n",
    "# 返回[0.0，1.0)内的一组均匀分布的数。\n",
    "\n",
    "# 最常用\n",
    "# np.random.uniform(low=0.0, high=1.0, size=None)\n",
    "# 功能：从一个均匀分布[low,high)中随机采样，注意定义域是左闭右开，即包含low，不包含high.\n",
    "# 参数介绍:\n",
    "# low: 采样下界，float类型，默认值为0；\n",
    "# high: 采样上界，float类型，默认值为1；\n",
    "# size: 输出样本数目，为int或元组(tuple)类型，例如，size=(m,n,k), 则输出mnk个样本，缺省时输出1个值。\n",
    "# 返回值：ndarray类型，其形状和参数size中描述一致。\n",
    "\n",
    "# np.random.randint(low, high=None, size=None, dtype='l')\n",
    "# 从一个均匀分布中随机采样，生成一个整数或N维整数数组，\n",
    "# 取数范围：若high不为None时，取[low,high)之间随机整数，否则取值[0,low)之间随机整数。\n",
    "x2 = np.random.uniform(-1, 1, 100000000)\n",
    "x2"
   ]
  },
  {
   "cell_type": "code",
   "execution_count": 27,
   "metadata": {},
   "outputs": [
    {
     "data": {
      "text/plain": "<Figure size 2000x800 with 1 Axes>",
      "image/png": "[encoded data removed]"
     },
     "metadata": {
      "needs_background": "light"
     },
     "output_type": "display_data"
    }
   ],
   "source": [
    "# 1.创建画布\n",
    "plt.figure(figsize=(20, 8), dpi=100)\n",
    "\n",
    "# 2.绘制图像\n",
    "plt.hist(x2, 1000)\n",
    "\n",
    "# 3.显示图像\n",
    "plt.show()"
   ]
  },
  {
   "cell_type": "markdown",
   "metadata": {},
   "source": [
    "# 数组的索引、切片"
   ]
  },
  {
   "cell_type": "code",
   "execution_count": 28,
   "metadata": {},
   "outputs": [
    {
     "data": {
      "text/plain": "array([[ 0.81470303, -0.07008809,  0.90325086,  0.75497015,  1.25279964],\n       [ 0.43784316,  1.16119643,  2.09690881, -1.48171558,  1.42102934],\n       [ 1.3039884 ,  0.96537266,  0.30991197, -2.02214573, -1.51251803],\n       [-0.60707775, -0.13370665,  1.20454272,  1.06874478, -1.57394083]])"
     },
     "execution_count": 28,
     "metadata": {},
     "output_type": "execute_result"
    }
   ],
   "source": [
    "stock_change"
   ]
  },
  {
   "cell_type": "code",
   "execution_count": 29,
   "metadata": {},
   "outputs": [
    {
     "data": {
      "text/plain": "array([ 0.81470303, -0.07008809,  0.90325086])"
     },
     "execution_count": 29,
     "metadata": {},
     "output_type": "execute_result"
    }
   ],
   "source": [
    "stock_change[0, 0:3]"
   ]
  },
  {
   "cell_type": "code",
   "execution_count": 30,
   "metadata": {},
   "outputs": [
    {
     "data": {
      "text/plain": "array([[[ 1,  2,  3],\n        [ 4,  5,  6]],\n\n       [[12,  3, 34],\n        [ 5,  6,  7]]])"
     },
     "execution_count": 30,
     "metadata": {},
     "output_type": "execute_result"
    }
   ],
   "source": [
    "a1 = np.array([ [[1,2,3],[4,5,6]], [[12,3,34],[5,6,7]]])\n",
    "a1"
   ]
  },
  {
   "cell_type": "code",
   "execution_count": 31,
   "metadata": {},
   "outputs": [
    {
     "data": {
      "text/plain": "12"
     },
     "execution_count": 31,
     "metadata": {},
     "output_type": "execute_result"
    }
   ],
   "source": [
    "a1[1,0,0]"
   ]
  },
  {
   "cell_type": "markdown",
   "metadata": {},
   "source": [
    "# 形状修改"
   ]
  },
  {
   "cell_type": "code",
   "execution_count": 32,
   "metadata": {},
   "outputs": [],
   "source": [
    "# ndarray.reshape(shape, order)\n",
    "# 返回一个具有相同数据域，但shape不一样的视图\n",
    "# 行、列不进行互换\n"
   ]
  },
  {
   "cell_type": "code",
   "execution_count": 33,
   "metadata": {},
   "outputs": [
    {
     "data": {
      "text/plain": "(4, 5)"
     },
     "execution_count": 33,
     "metadata": {},
     "output_type": "execute_result"
    }
   ],
   "source": [
    "stock_change.shape"
   ]
  },
  {
   "cell_type": "code",
   "execution_count": 34,
   "metadata": {},
   "outputs": [
    {
     "data": {
      "text/plain": "array([[ 0.81470303, -0.07008809,  0.90325086,  0.75497015,  1.25279964],\n       [ 0.43784316,  1.16119643,  2.09690881, -1.48171558,  1.42102934],\n       [ 1.3039884 ,  0.96537266,  0.30991197, -2.02214573, -1.51251803],\n       [-0.60707775, -0.13370665,  1.20454272,  1.06874478, -1.57394083]])"
     },
     "execution_count": 34,
     "metadata": {},
     "output_type": "execute_result"
    }
   ],
   "source": [
    "stock_change"
   ]
  },
  {
   "cell_type": "code",
   "execution_count": 35,
   "metadata": {},
   "outputs": [
    {
     "data": {
      "text/plain": "array([[ 0.81470303, -0.07008809,  0.90325086,  0.75497015],\n       [ 1.25279964,  0.43784316,  1.16119643,  2.09690881],\n       [-1.48171558,  1.42102934,  1.3039884 ,  0.96537266],\n       [ 0.30991197, -2.02214573, -1.51251803, -0.60707775],\n       [-0.13370665,  1.20454272,  1.06874478, -1.57394083]])"
     },
     "execution_count": 35,
     "metadata": {},
     "output_type": "execute_result"
    }
   ],
   "source": [
    "stock_change.reshape([5,4])"
   ]
  },
  {
   "cell_type": "code",
   "execution_count": 36,
   "metadata": {},
   "outputs": [
    {
     "data": {
      "text/plain": "array([[ 0.81470303, -0.07008809],\n       [ 0.90325086,  0.75497015],\n       [ 1.25279964,  0.43784316],\n       [ 1.16119643,  2.09690881],\n       [-1.48171558,  1.42102934],\n       [ 1.3039884 ,  0.96537266],\n       [ 0.30991197, -2.02214573],\n       [-1.51251803, -0.60707775],\n       [-0.13370665,  1.20454272],\n       [ 1.06874478, -1.57394083]])"
     },
     "execution_count": 36,
     "metadata": {},
     "output_type": "execute_result"
    }
   ],
   "source": [
    "stock_change.reshape([-1, 2])"
   ]
  },
  {
   "cell_type": "code",
   "execution_count": 37,
   "metadata": {},
   "outputs": [],
   "source": [
    "#stock_change.reshape([3, -1]) #不能整除，会报错"
   ]
  },
  {
   "cell_type": "code",
   "execution_count": 38,
   "metadata": {},
   "outputs": [],
   "source": [
    "#ndarray.resize(new_shape)\n",
    "# 修改数组本身的形状（需要保持元素个数前后相同）\n",
    "# 行、列不进行互换"
   ]
  },
  {
   "cell_type": "code",
   "execution_count": 39,
   "metadata": {},
   "outputs": [
    {
     "data": {
      "text/plain": "array([[ 0.81470303, -0.07008809,  0.90325086,  0.75497015,  1.25279964],\n       [ 0.43784316,  1.16119643,  2.09690881, -1.48171558,  1.42102934],\n       [ 1.3039884 ,  0.96537266,  0.30991197, -2.02214573, -1.51251803],\n       [-0.60707775, -0.13370665,  1.20454272,  1.06874478, -1.57394083]])"
     },
     "execution_count": 39,
     "metadata": {},
     "output_type": "execute_result"
    }
   ],
   "source": [
    "stock_change"
   ]
  },
  {
   "cell_type": "code",
   "execution_count": 40,
   "metadata": {},
   "outputs": [
    {
     "data": {
      "text/plain": "array([[ 0.81470303, -0.07008809],\n       [ 0.90325086,  0.75497015],\n       [ 1.25279964,  0.43784316],\n       [ 1.16119643,  2.09690881],\n       [-1.48171558,  1.42102934],\n       [ 1.3039884 ,  0.96537266],\n       [ 0.30991197, -2.02214573],\n       [-1.51251803, -0.60707775],\n       [-0.13370665,  1.20454272],\n       [ 1.06874478, -1.57394083]])"
     },
     "execution_count": 40,
     "metadata": {},
     "output_type": "execute_result"
    }
   ],
   "source": [
    "stock_change.resize([10, 2])\n",
    "stock_change"
   ]
  },
  {
   "cell_type": "code",
   "execution_count": 41,
   "metadata": {},
   "outputs": [],
   "source": [
    "# ndarray.T\n",
    "# 数组的转置\n",
    "# 将数组的行、列进行互换"
   ]
  },
  {
   "cell_type": "code",
   "execution_count": 42,
   "metadata": {},
   "outputs": [
    {
     "data": {
      "text/plain": "array([[ 0.81470303,  0.90325086,  1.25279964,  1.16119643, -1.48171558,\n         1.3039884 ,  0.30991197, -1.51251803, -0.13370665,  1.06874478],\n       [-0.07008809,  0.75497015,  0.43784316,  2.09690881,  1.42102934,\n         0.96537266, -2.02214573, -0.60707775,  1.20454272, -1.57394083]])"
     },
     "execution_count": 42,
     "metadata": {},
     "output_type": "execute_result"
    }
   ],
   "source": [
    "stock_change.T"
   ]
  },
  {
   "cell_type": "markdown",
   "metadata": {},
   "source": [
    "# 类型修改"
   ]
  },
  {
   "cell_type": "code",
   "execution_count": 43,
   "metadata": {},
   "outputs": [
    {
     "data": {
      "text/plain": "array([[ 0,  0],\n       [ 0,  0],\n       [ 1,  0],\n       [ 1,  2],\n       [-1,  1],\n       [ 1,  0],\n       [ 0, -2],\n       [-1,  0],\n       [ 0,  1],\n       [ 1, -1]])"
     },
     "execution_count": 43,
     "metadata": {},
     "output_type": "execute_result"
    }
   ],
   "source": [
    "# ndarray.astype(type)\n",
    "# 返回修改了类型之后的数组\n",
    "stock_change.astype(np.int64)"
   ]
  },
  {
   "cell_type": "code",
   "execution_count": 44,
   "metadata": {},
   "outputs": [
    {
     "name": "stderr",
     "output_type": "stream",
     "text": [
      "/tmp/ipykernel_81150/2025117949.py:4: DeprecationWarning: tostring() is deprecated. Use tobytes() instead.\n",
      "  a1.tostring()\n"
     ]
    },
    {
     "data": {
      "text/plain": "b'\\x01\\x00\\x00\\x00\\x00\\x00\\x00\\x00\\x02\\x00\\x00\\x00\\x00\\x00\\x00\\x00\\x03\\x00\\x00\\x00\\x00\\x00\\x00\\x00\\x04\\x00\\x00\\x00\\x00\\x00\\x00\\x00\\x05\\x00\\x00\\x00\\x00\\x00\\x00\\x00\\x06\\x00\\x00\\x00\\x00\\x00\\x00\\x00\\x0c\\x00\\x00\\x00\\x00\\x00\\x00\\x00\\x03\\x00\\x00\\x00\\x00\\x00\\x00\\x00\"\\x00\\x00\\x00\\x00\\x00\\x00\\x00\\x05\\x00\\x00\\x00\\x00\\x00\\x00\\x00\\x06\\x00\\x00\\x00\\x00\\x00\\x00\\x00\\x07\\x00\\x00\\x00\\x00\\x00\\x00\\x00'"
     },
     "execution_count": 44,
     "metadata": {},
     "output_type": "execute_result"
    }
   ],
   "source": [
    "# ndarray.tostring([order])或者ndarray.tobytes([order])\n",
    "# 构造包含数组中原始数据字节的Python字节\n",
    "a1 = np.array([ [[1,2,3],[4,5,6]], [[12,3,34],[5,6,7]]])\n",
    "a1.tostring()"
   ]
  },
  {
   "cell_type": "markdown",
   "metadata": {},
   "source": [
    "# 数组的去重"
   ]
  },
  {
   "cell_type": "code",
   "execution_count": 45,
   "metadata": {},
   "outputs": [
    {
     "data": {
      "text/plain": "array([[1, 2, 3, 4],\n       [2, 3, 4, 5]])"
     },
     "execution_count": 45,
     "metadata": {},
     "output_type": "execute_result"
    }
   ],
   "source": [
    "a = np.array([[1,2,3,4],[2,3,4,5]])\n",
    "a"
   ]
  },
  {
   "cell_type": "code",
   "execution_count": 46,
   "metadata": {},
   "outputs": [
    {
     "data": {
      "text/plain": "array([1, 2, 3, 4, 5])"
     },
     "execution_count": 46,
     "metadata": {},
     "output_type": "execute_result"
    }
   ],
   "source": [
    "# 数组去重\n",
    "np.unique(a)"
   ]
  },
  {
   "cell_type": "code",
   "execution_count": 47,
   "metadata": {},
   "outputs": [],
   "source": [
    "import numpy as np"
   ]
  },
  {
   "cell_type": "code",
   "execution_count": 48,
   "metadata": {},
   "outputs": [
    {
     "data": {
      "text/plain": "array([[92, 97, 78, 64, 52],\n       [96, 81, 65, 65, 91],\n       [96, 70, 41, 73, 59],\n       [60, 76, 57, 88, 45],\n       [92, 77, 91, 64, 46],\n       [59, 60, 59, 77, 87],\n       [56, 98, 46, 70, 77],\n       [57, 95, 84, 79, 89],\n       [49, 48, 52, 41, 51],\n       [41, 75, 72, 62, 41]])"
     },
     "execution_count": 48,
     "metadata": {},
     "output_type": "execute_result"
    }
   ],
   "source": [
    "# 生成10名同学，5门功课的数据\n",
    "score = np.random.randint(40, 100, (10, 5))\n",
    "score"
   ]
  },
  {
   "cell_type": "code",
   "execution_count": 49,
   "metadata": {},
   "outputs": [
    {
     "data": {
      "text/plain": "array([[56, 98, 46, 70, 77],\n       [57, 95, 84, 79, 89],\n       [49, 48, 52, 41, 51],\n       [41, 75, 72, 62, 41]])"
     },
     "execution_count": 49,
     "metadata": {},
     "output_type": "execute_result"
    }
   ],
   "source": [
    "# 取出最后4名同学的成绩，用于逻辑判断\n",
    "# 从6开始\n",
    "test_score = score[6:, 0:5]\n",
    "test_score"
   ]
  },
  {
   "cell_type": "code",
   "execution_count": 50,
   "metadata": {},
   "outputs": [
    {
     "data": {
      "text/plain": "array([[False,  True, False,  True,  True],\n       [False,  True,  True,  True,  True],\n       [False, False, False, False, False],\n       [False,  True,  True,  True, False]])"
     },
     "execution_count": 50,
     "metadata": {},
     "output_type": "execute_result"
    }
   ],
   "source": [
    "# 逻辑判断, 如果成绩大于60就标记为True 否则为False\n",
    "test_score > 60\n"
   ]
  },
  {
   "cell_type": "code",
   "execution_count": 51,
   "metadata": {},
   "outputs": [
    {
     "data": {
      "text/plain": "array([[56,  1, 46,  1,  1],\n       [57,  1,  1,  1,  1],\n       [49, 48, 52, 41, 51],\n       [41,  1,  1,  1, 41]])"
     },
     "execution_count": 51,
     "metadata": {},
     "output_type": "execute_result"
    }
   ],
   "source": [
    "test_score[test_score > 60] = 1\n",
    "test_score"
   ]
  },
  {
   "cell_type": "markdown",
   "metadata": {},
   "source": [
    "# 通用判断函数"
   ]
  },
  {
   "cell_type": "code",
   "execution_count": 52,
   "metadata": {},
   "outputs": [
    {
     "data": {
      "text/plain": "False"
     },
     "execution_count": 52,
     "metadata": {},
     "output_type": "execute_result"
    }
   ],
   "source": [
    "# np.all():所有满足要求\n",
    "np.all(score[0:2, :] > 60)"
   ]
  },
  {
   "cell_type": "code",
   "execution_count": 53,
   "metadata": {},
   "outputs": [
    {
     "data": {
      "text/plain": "array([[92, 97, 78, 64, 52],\n       [96, 81, 65, 65, 91],\n       [96, 70, 41, 73, 59],\n       [60, 76, 57, 88, 45],\n       [92, 77, 91, 64, 46],\n       [59, 60, 59, 77, 87],\n       [56,  1, 46,  1,  1],\n       [57,  1,  1,  1,  1],\n       [49, 48, 52, 41, 51],\n       [41,  1,  1,  1, 41]])"
     },
     "execution_count": 53,
     "metadata": {},
     "output_type": "execute_result"
    }
   ],
   "source": [
    "score"
   ]
  },
  {
   "cell_type": "code",
   "execution_count": 54,
   "metadata": {},
   "outputs": [
    {
     "data": {
      "text/plain": "True"
     },
     "execution_count": 54,
     "metadata": {},
     "output_type": "execute_result"
    }
   ],
   "source": [
    "# np.any():其一满足要求\n",
    "np.any(score[0:2, :] > 90)"
   ]
  },
  {
   "cell_type": "code",
   "execution_count": 55,
   "metadata": {},
   "outputs": [
    {
     "data": {
      "text/plain": "array([[1, 1, 1, 1],\n       [1, 1, 1, 1],\n       [1, 1, 0, 1],\n       [0, 1, 0, 1]])"
     },
     "execution_count": 55,
     "metadata": {},
     "output_type": "execute_result"
    }
   ],
   "source": [
    "# np.where（三元运算符）\n",
    "# 通过使用np.where能够进行更加复杂的运算\n",
    "# np.where()\n",
    "temp = score[:4, :4]\n",
    "np.where(temp > 60, 1, 0)"
   ]
  },
  {
   "cell_type": "code",
   "execution_count": 56,
   "metadata": {},
   "outputs": [
    {
     "data": {
      "text/plain": "array([[0, 0, 1, 1],\n       [0, 1, 1, 1],\n       [0, 1, 0, 1],\n       [0, 1, 0, 1]])"
     },
     "execution_count": 56,
     "metadata": {},
     "output_type": "execute_result"
    }
   ],
   "source": [
    "# 复合逻辑需要结合np.logical_and和np.logical_or使用\n",
    "# np.logical_and:逻辑与\n",
    "np.where(np.logical_and(temp > 60, temp < 90), 1, 0)"
   ]
  },
  {
   "cell_type": "code",
   "execution_count": 57,
   "metadata": {},
   "outputs": [
    {
     "data": {
      "text/plain": "array([[1, 1, 0, 0],\n       [1, 0, 0, 0],\n       [1, 0, 1, 0],\n       [0, 0, 1, 0]])"
     },
     "execution_count": 57,
     "metadata": {},
     "output_type": "execute_result"
    }
   ],
   "source": [
    "# 逻辑或\n",
    "np.where(np.logical_or(temp > 90, temp < 60), 1, 0)"
   ]
  },
  {
   "cell_type": "markdown",
   "metadata": {},
   "source": [
    "# 统计运算"
   ]
  },
  {
   "cell_type": "code",
   "execution_count": 58,
   "metadata": {},
   "outputs": [
    {
     "data": {
      "text/plain": "array([[92, 97, 78, 64, 52],\n       [96, 81, 65, 65, 91],\n       [96, 70, 41, 73, 59],\n       [60, 76, 57, 88, 45]])"
     },
     "execution_count": 58,
     "metadata": {},
     "output_type": "execute_result"
    }
   ],
   "source": [
    "# 统计指标\n",
    "# 在数据挖掘/机器学习领域，统计指标的值也是我们分析问题的一种方式。常用的指标如下：\n",
    "# min(a, axis)\n",
    "# Return the minimum of an array or minimum along an axis.最小值\n",
    "# max(a, axis])\n",
    "# Return the maximum of an array or maximum along an axis.最大值\n",
    "# median(a, axis)\n",
    "# Compute the median along the specified axis.中位数\n",
    "# mean(a, axis, dtype)\n",
    "# Compute the arithmetic mean along the specified axs.平均值\n",
    "# std(a, axis, dtype)\n",
    "# Compute the standard deviation along the specified axis.标准差\n",
    "# var(a, axis, dtype)\n",
    "# Compute the variance along the specified axis.方差\n",
    "# 进行统计的时候，axis 轴的取值并不一定，Numpy中不同的API轴的值都不一样，在这里，axis 0代表列, axis 1代表行去进行统计\n",
    "temp = score[:4, :]\n",
    "temp"
   ]
  },
  {
   "cell_type": "code",
   "execution_count": 59,
   "metadata": {},
   "outputs": [
    {
     "data": {
      "text/plain": "97"
     },
     "execution_count": 59,
     "metadata": {},
     "output_type": "execute_result"
    }
   ],
   "source": [
    "np.max(temp) #输出最大值"
   ]
  },
  {
   "cell_type": "code",
   "execution_count": 60,
   "metadata": {},
   "outputs": [
    {
     "data": {
      "text/plain": "72.3"
     },
     "execution_count": 60,
     "metadata": {},
     "output_type": "execute_result"
    }
   ],
   "source": [
    "np.mean(temp) #平均值"
   ]
  },
  {
   "cell_type": "code",
   "execution_count": 61,
   "metadata": {},
   "outputs": [
    {
     "data": {
      "text/plain": "array([96, 97, 78, 88, 91])"
     },
     "execution_count": 61,
     "metadata": {},
     "output_type": "execute_result"
    }
   ],
   "source": [
    "np.max(temp, axis=0)"
   ]
  },
  {
   "cell_type": "code",
   "execution_count": 62,
   "metadata": {},
   "outputs": [
    {
     "data": {
      "text/plain": "array([97, 96, 96, 88])"
     },
     "execution_count": 62,
     "metadata": {},
     "output_type": "execute_result"
    }
   ],
   "source": [
    "np.max(temp, axis=1)"
   ]
  },
  {
   "cell_type": "code",
   "execution_count": 63,
   "metadata": {},
   "outputs": [
    {
     "data": {
      "text/plain": "1"
     },
     "execution_count": 63,
     "metadata": {},
     "output_type": "execute_result"
    }
   ],
   "source": [
    "# 如果需要统计出某科最高分对应的是哪个同学？\n",
    "# np.argmax(temp, axis=)\n",
    "# np.argmin(temp, axis=)\n",
    "np.argmax(temp)"
   ]
  },
  {
   "cell_type": "code",
   "execution_count": 64,
   "metadata": {},
   "outputs": [
    {
     "data": {
      "text/plain": "array([1, 0, 0, 3, 1])"
     },
     "execution_count": 64,
     "metadata": {},
     "output_type": "execute_result"
    }
   ],
   "source": [
    "np.argmax(temp, axis=0)"
   ]
  },
  {
   "cell_type": "code",
   "execution_count": 65,
   "metadata": {},
   "outputs": [
    {
     "data": {
      "text/plain": "array([3, 2, 2, 0, 3])"
     },
     "execution_count": 65,
     "metadata": {},
     "output_type": "execute_result"
    }
   ],
   "source": [
    "np.argmin(temp, axis=0)"
   ]
  },
  {
   "cell_type": "markdown",
   "metadata": {},
   "source": [
    "# 数组间的运算"
   ]
  },
  {
   "cell_type": "code",
   "execution_count": 66,
   "metadata": {},
   "outputs": [
    {
     "data": {
      "text/plain": "array([[1, 2, 3],\n       [3, 4, 5]])"
     },
     "execution_count": 66,
     "metadata": {},
     "output_type": "execute_result"
    }
   ],
   "source": [
    "import numpy as np\n",
    "a = np.array([[1,2,3],[3,4,5]])\n",
    "a"
   ]
  },
  {
   "cell_type": "code",
   "execution_count": 67,
   "metadata": {},
   "outputs": [
    {
     "data": {
      "text/plain": "array([[4, 5, 6],\n       [6, 7, 8]])"
     },
     "execution_count": 67,
     "metadata": {},
     "output_type": "execute_result"
    }
   ],
   "source": [
    "a + 3"
   ]
  },
  {
   "cell_type": "code",
   "execution_count": 68,
   "metadata": {},
   "outputs": [
    {
     "data": {
      "text/plain": "array([[0.5, 1. , 1.5],\n       [1.5, 2. , 2.5]])"
     },
     "execution_count": 68,
     "metadata": {},
     "output_type": "execute_result"
    }
   ],
   "source": [
    "a / 2"
   ]
  },
  {
   "cell_type": "code",
   "execution_count": 69,
   "metadata": {},
   "outputs": [
    {
     "data": {
      "text/plain": "array([[ 3,  6,  9],\n       [ 9, 12, 15]])"
     },
     "execution_count": 69,
     "metadata": {},
     "output_type": "execute_result"
    }
   ],
   "source": [
    "a * 3"
   ]
  },
  {
   "cell_type": "code",
   "execution_count": 70,
   "metadata": {},
   "outputs": [
    {
     "data": {
      "text/plain": "[1, 2, 3, 1, 2, 3, 1, 2, 3]"
     },
     "execution_count": 70,
     "metadata": {},
     "output_type": "execute_result"
    }
   ],
   "source": [
    "# 注意和原生list不一样\n",
    "a = [1,2,3]\n",
    "a * 3"
   ]
  },
  {
   "cell_type": "code",
   "execution_count": 71,
   "metadata": {},
   "outputs": [],
   "source": [
    "arr1 = np.array([[1, 2, 3, 2, 1, 4], [5, 6, 1, 2, 3, 1]])\n",
    "arr2 = np.array([[1, 2, 3, 4], [3, 4, 5, 6]])\n",
    "# arr1 + arr2 # 不可以进行计算\n",
    "# arr1 + arr2"
   ]
  },
  {
   "cell_type": "code",
   "execution_count": 72,
   "metadata": {},
   "outputs": [],
   "source": [
    "# 广播机制\n",
    "# 数组在进行矢量化运算时，要求数组的形状是相等的。当形状不相等的数组执行算术运算的时候，就会出现广播机制，该机制会对数组进行扩展，使数组的shape属性值一样，这样，就可以进行矢量化运算了。\n",
    "# 广播机制实现了时两个或两个以上数组的运算，即使这些数组的shape不是完全相同的，只需要满足如下任意一个条件即可。\n",
    "#（1）如果两个数组的后缘维度（trailing dimension，即从末尾开始算起的维度）的轴长度相符，\n",
    "#（2）或其中的一方的长度为1。\n",
    "# 广播会在缺失和（或）长度为1的维度上进行。\n",
    "# 广播机制需要扩展维度小的数组，使得它与维度最大的数组的shape值相同，以便使用元素级函数或者运算符进行运算。"
   ]
  },
  {
   "cell_type": "code",
   "execution_count": 73,
   "metadata": {},
   "outputs": [
    {
     "data": {
      "text/plain": "(4, 1)"
     },
     "execution_count": 73,
     "metadata": {},
     "output_type": "execute_result"
    }
   ],
   "source": [
    "arr1 = np.array([[0],[1],[2],[3]])\n",
    "arr1.shape"
   ]
  },
  {
   "cell_type": "code",
   "execution_count": 74,
   "metadata": {},
   "outputs": [
    {
     "data": {
      "text/plain": "(3,)"
     },
     "execution_count": 74,
     "metadata": {},
     "output_type": "execute_result"
    }
   ],
   "source": [
    "arr2 = np.array([1,2,3])\n",
    "arr2.shape"
   ]
  },
  {
   "cell_type": "code",
   "execution_count": 75,
   "metadata": {},
   "outputs": [
    {
     "data": {
      "text/plain": "array([[1, 2, 3],\n       [2, 3, 4],\n       [3, 4, 5],\n       [4, 5, 6]])"
     },
     "execution_count": 75,
     "metadata": {},
     "output_type": "execute_result"
    }
   ],
   "source": [
    "arr1+arr2"
   ]
  },
  {
   "cell_type": "code",
   "execution_count": 76,
   "metadata": {},
   "outputs": [],
   "source": [
    "arr1 = np.array([[1, 2, 3, 2, 1, 4], [5, 6, 1, 2, 3, 1]])\n",
    "arr2 = np.array([[1], [3]])"
   ]
  },
  {
   "cell_type": "code",
   "execution_count": 77,
   "metadata": {},
   "outputs": [
    {
     "data": {
      "text/plain": "(2, 6)"
     },
     "execution_count": 77,
     "metadata": {},
     "output_type": "execute_result"
    }
   ],
   "source": [
    "arr1.shape"
   ]
  },
  {
   "cell_type": "code",
   "execution_count": 78,
   "metadata": {},
   "outputs": [
    {
     "data": {
      "text/plain": "(2, 1)"
     },
     "execution_count": 78,
     "metadata": {},
     "output_type": "execute_result"
    }
   ],
   "source": [
    "arr2.shape"
   ]
  },
  {
   "cell_type": "code",
   "execution_count": 79,
   "metadata": {},
   "outputs": [
    {
     "data": {
      "text/plain": "array([[2, 3, 4, 3, 2, 5],\n       [8, 9, 4, 5, 6, 4]])"
     },
     "execution_count": 79,
     "metadata": {},
     "output_type": "execute_result"
    }
   ],
   "source": [
    "arr2+arr1"
   ]
  },
  {
   "cell_type": "markdown",
   "metadata": {},
   "source": [
    "# 矩阵运算"
   ]
  },
  {
   "cell_type": "code",
   "execution_count": 80,
   "metadata": {},
   "outputs": [],
   "source": [
    "# 矩阵，matrix，和array的区别矩阵必须是2维的，但是array可以是多维的。\n",
    "# 矩阵乘法api：\n",
    "# np.matmul \n",
    "# np.dot 点乘\n"
   ]
  },
  {
   "cell_type": "code",
   "execution_count": 81,
   "metadata": {},
   "outputs": [],
   "source": [
    "a = np.array([[80, 86],\n",
    "[82, 80],\n",
    "[85, 78],\n",
    "[90, 90],\n",
    "[86, 82],\n",
    "[82, 90],\n",
    "[78, 80],\n",
    "[92, 94]])"
   ]
  },
  {
   "cell_type": "code",
   "execution_count": 82,
   "metadata": {},
   "outputs": [],
   "source": [
    "b = np.array([[0.7], [0.3]])"
   ]
  },
  {
   "cell_type": "code",
   "execution_count": 83,
   "metadata": {},
   "outputs": [
    {
     "data": {
      "text/plain": "array([[0.7],\n       [0.3]])"
     },
     "execution_count": 83,
     "metadata": {},
     "output_type": "execute_result"
    }
   ],
   "source": [
    "b"
   ]
  },
  {
   "cell_type": "code",
   "execution_count": 84,
   "metadata": {},
   "outputs": [
    {
     "data": {
      "text/plain": "array([[81.8],\n       [81.4],\n       [82.9],\n       [90. ],\n       [84.8],\n       [84.4],\n       [78.6],\n       [92.6]])"
     },
     "execution_count": 84,
     "metadata": {},
     "output_type": "execute_result"
    }
   ],
   "source": [
    "# 矩阵乘法 - 点乘\n",
    "np.dot(a,b)"
   ]
  },
  {
   "cell_type": "code",
   "execution_count": 85,
   "metadata": {},
   "outputs": [
    {
     "data": {
      "text/plain": "array([[81.8],\n       [81.4],\n       [82.9],\n       [90. ],\n       [84.8],\n       [84.4],\n       [78.6],\n       [92.6]])"
     },
     "execution_count": 85,
     "metadata": {},
     "output_type": "execute_result"
    }
   ],
   "source": [
    "# 矩阵乘法 \n",
    "np.matmul(a,b)"
   ]
  },
  {
   "cell_type": "code",
   "execution_count": 86,
   "metadata": {},
   "outputs": [],
   "source": [
    "c = 10 #常量"
   ]
  },
  {
   "cell_type": "code",
   "execution_count": 87,
   "metadata": {},
   "outputs": [
    {
     "data": {
      "text/plain": "array([[800, 860],\n       [820, 800],\n       [850, 780],\n       [900, 900],\n       [860, 820],\n       [820, 900],\n       [780, 800],\n       [920, 940]])"
     },
     "execution_count": 87,
     "metadata": {},
     "output_type": "execute_result"
    }
   ],
   "source": [
    "np.dot(c, a)"
   ]
  },
  {
   "cell_type": "code",
   "execution_count": 88,
   "metadata": {},
   "outputs": [],
   "source": [
    "# np.matmul(c, a)  # matmul不支持矩阵和标量的乘法\n",
    "print(1)"
   ]
  }
 ],
 "metadata": {
  "interpreter": {
   "hash": "5e2cd2ed858fc56d670a29970c9348e3e3b538090da2cc614f95d4c3dc2e6761"
  },
  "kernelspec": {
   "display_name": "Python 3.6.13 64-bit ('RockLab': conda)",
   "name": "python3"
  },
  "language_info": {
   "codemirror_mode": {
    "name": "ipython",
    "version": 3
   },
   "file_extension": ".py",
   "mimetype": "text/x-python",
   "name": "python",
   "nbconvert_exporter": "python",
   "pygments_lexer": "ipython3",
   "version": "3.8.12"
  },
  "orig_nbformat": 4
 },
 "nbformat": 4,
 "nbformat_minor": 2
}