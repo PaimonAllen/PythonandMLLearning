{
 "cells": [
  {
   "cell_type": "code",
   "execution_count": 1,
   "source": [
    "import numpy as np"
   ],
   "outputs": [],
   "metadata": {}
  },
  {
   "cell_type": "code",
   "execution_count": 3,
   "source": [
    "# 生成10名同学，5门功课的数据\n",
    "score = np.random.randint(40, 100, (10, 5))\n",
    "score"
   ],
   "outputs": [
    {
     "output_type": "execute_result",
     "data": {
      "text/plain": [
       "array([[89, 98, 70, 58, 57],\n",
       "       [68, 70, 99, 77, 73],\n",
       "       [64, 92, 99, 98, 67],\n",
       "       [92, 52, 57, 96, 95],\n",
       "       [53, 93, 76, 96, 95],\n",
       "       [92, 94, 58, 87, 92],\n",
       "       [74, 94, 68, 58, 52],\n",
       "       [69, 71, 40, 59, 93],\n",
       "       [65, 73, 79, 91, 79],\n",
       "       [66, 66, 53, 99, 55]])"
      ]
     },
     "metadata": {},
     "execution_count": 3
    }
   ],
   "metadata": {}
  },
  {
   "cell_type": "code",
   "execution_count": 7,
   "source": [
    "# 取出最后4名同学的成绩，用于逻辑判断\n",
    "# 从6开始\n",
    "test_score = score[6:, 0:5]\n",
    "test_score"
   ],
   "outputs": [
    {
     "output_type": "execute_result",
     "data": {
      "text/plain": [
       "array([[74, 94, 68, 58, 52],\n",
       "       [69, 71, 40, 59, 93],\n",
       "       [65, 73, 79, 91, 79],\n",
       "       [66, 66, 53, 99, 55]])"
      ]
     },
     "metadata": {},
     "execution_count": 7
    }
   ],
   "metadata": {}
  },
  {
   "cell_type": "code",
   "execution_count": 8,
   "source": [
    "# 逻辑判断, 如果成绩大于60就标记为True 否则为False\n",
    "test_score > 60\n"
   ],
   "outputs": [
    {
     "output_type": "execute_result",
     "data": {
      "text/plain": [
       "array([[ True,  True,  True, False, False],\n",
       "       [ True,  True, False, False,  True],\n",
       "       [ True,  True,  True,  True,  True],\n",
       "       [ True,  True, False,  True, False]])"
      ]
     },
     "metadata": {},
     "execution_count": 8
    }
   ],
   "metadata": {}
  },
  {
   "cell_type": "code",
   "execution_count": 9,
   "source": [
    "test_score[test_score > 60] = 1\n",
    "test_score"
   ],
   "outputs": [
    {
     "output_type": "execute_result",
     "data": {
      "text/plain": [
       "array([[ 1,  1,  1, 58, 52],\n",
       "       [ 1,  1, 40, 59,  1],\n",
       "       [ 1,  1,  1,  1,  1],\n",
       "       [ 1,  1, 53,  1, 55]])"
      ]
     },
     "metadata": {},
     "execution_count": 9
    }
   ],
   "metadata": {}
  },
  {
   "cell_type": "markdown",
   "source": [
    "# 通用判断函数"
   ],
   "metadata": {}
  },
  {
   "cell_type": "code",
   "execution_count": 10,
   "source": [
    "# np.all():所有满足要求\n",
    "np.all(score[0:2, :] > 60)"
   ],
   "outputs": [
    {
     "output_type": "execute_result",
     "data": {
      "text/plain": [
       "False"
      ]
     },
     "metadata": {},
     "execution_count": 10
    }
   ],
   "metadata": {}
  },
  {
   "cell_type": "code",
   "execution_count": 11,
   "source": [
    "score"
   ],
   "outputs": [
    {
     "output_type": "execute_result",
     "data": {
      "text/plain": [
       "array([[89, 98, 70, 58, 57],\n",
       "       [68, 70, 99, 77, 73],\n",
       "       [64, 92, 99, 98, 67],\n",
       "       [92, 52, 57, 96, 95],\n",
       "       [53, 93, 76, 96, 95],\n",
       "       [92, 94, 58, 87, 92],\n",
       "       [ 1,  1,  1, 58, 52],\n",
       "       [ 1,  1, 40, 59,  1],\n",
       "       [ 1,  1,  1,  1,  1],\n",
       "       [ 1,  1, 53,  1, 55]])"
      ]
     },
     "metadata": {},
     "execution_count": 11
    }
   ],
   "metadata": {}
  },
  {
   "cell_type": "code",
   "execution_count": 12,
   "source": [
    "# np.any():其一满足要求\n",
    "np.any(score[0:2, :] > 90)"
   ],
   "outputs": [
    {
     "output_type": "execute_result",
     "data": {
      "text/plain": [
       "True"
      ]
     },
     "metadata": {},
     "execution_count": 12
    }
   ],
   "metadata": {}
  },
  {
   "cell_type": "code",
   "execution_count": 13,
   "source": [
    "# np.where（三元运算符）\n",
    "# 通过使用np.where能够进行更加复杂的运算\n",
    "# np.where()\n",
    "temp = score[:4, :4]\n",
    "np.where(temp > 60, 1, 0)"
   ],
   "outputs": [
    {
     "output_type": "execute_result",
     "data": {
      "text/plain": [
       "array([[1, 1, 1, 0],\n",
       "       [1, 1, 1, 1],\n",
       "       [1, 1, 1, 1],\n",
       "       [1, 0, 0, 1]])"
      ]
     },
     "metadata": {},
     "execution_count": 13
    }
   ],
   "metadata": {}
  },
  {
   "cell_type": "code",
   "execution_count": 14,
   "source": [
    "# 复合逻辑需要结合np.logical_and和np.logical_or使用\n",
    "# np.logical_and:逻辑与\n",
    "np.where(np.logical_and(temp > 60, temp < 90), 1, 0)"
   ],
   "outputs": [
    {
     "output_type": "execute_result",
     "data": {
      "text/plain": [
       "array([[1, 0, 1, 0],\n",
       "       [1, 1, 0, 1],\n",
       "       [1, 0, 0, 0],\n",
       "       [0, 0, 0, 0]])"
      ]
     },
     "metadata": {},
     "execution_count": 14
    }
   ],
   "metadata": {}
  },
  {
   "cell_type": "code",
   "execution_count": 15,
   "source": [
    "# 逻辑或\n",
    "np.where(np.logical_or(temp > 90, temp < 60), 1, 0)"
   ],
   "outputs": [
    {
     "output_type": "execute_result",
     "data": {
      "text/plain": [
       "array([[0, 1, 0, 1],\n",
       "       [0, 0, 1, 0],\n",
       "       [0, 1, 1, 1],\n",
       "       [1, 1, 1, 1]])"
      ]
     },
     "metadata": {},
     "execution_count": 15
    }
   ],
   "metadata": {}
  },
  {
   "cell_type": "markdown",
   "source": [
    "# 统计运算"
   ],
   "metadata": {}
  },
  {
   "cell_type": "code",
   "execution_count": 18,
   "source": [
    "# 统计指标\n",
    "# 在数据挖掘/机器学习领域，统计指标的值也是我们分析问题的一种方式。常用的指标如下：\n",
    "# min(a, axis)\n",
    "# Return the minimum of an array or minimum along an axis.最小值\n",
    "# max(a, axis])\n",
    "# Return the maximum of an array or maximum along an axis.最大值\n",
    "# median(a, axis)\n",
    "# Compute the median along the specified axis.中位数\n",
    "# mean(a, axis, dtype)\n",
    "# Compute the arithmetic mean along the specified axs.平均值\n",
    "# std(a, axis, dtype)\n",
    "# Compute the standard deviation along the specified axis.标准差\n",
    "# var(a, axis, dtype)\n",
    "# Compute the variance along the specified axis.方差\n",
    "# 进行统计的时候，axis 轴的取值并不一定，Numpy中不同的API轴的值都不一样，在这里，axis 0代表列, axis 1代表行去进行统计\n",
    "temp = score[:4, :]\n",
    "temp"
   ],
   "outputs": [
    {
     "output_type": "execute_result",
     "data": {
      "text/plain": [
       "array([[89, 98, 70, 58, 57],\n",
       "       [68, 70, 99, 77, 73],\n",
       "       [64, 92, 99, 98, 67],\n",
       "       [92, 52, 57, 96, 95]])"
      ]
     },
     "metadata": {},
     "execution_count": 18
    }
   ],
   "metadata": {}
  },
  {
   "cell_type": "code",
   "execution_count": 19,
   "source": [
    "np.max(temp) #输出最大值"
   ],
   "outputs": [
    {
     "output_type": "execute_result",
     "data": {
      "text/plain": [
       "99"
      ]
     },
     "metadata": {},
     "execution_count": 19
    }
   ],
   "metadata": {}
  },
  {
   "cell_type": "code",
   "execution_count": 20,
   "source": [
    "np.mean(temp) #平均值"
   ],
   "outputs": [
    {
     "output_type": "execute_result",
     "data": {
      "text/plain": [
       "78.55"
      ]
     },
     "metadata": {},
     "execution_count": 20
    }
   ],
   "metadata": {}
  },
  {
   "cell_type": "code",
   "execution_count": 21,
   "source": [
    "np.max(temp, axis=0)"
   ],
   "outputs": [
    {
     "output_type": "execute_result",
     "data": {
      "text/plain": [
       "array([92, 98, 99, 98, 95])"
      ]
     },
     "metadata": {},
     "execution_count": 21
    }
   ],
   "metadata": {}
  },
  {
   "cell_type": "code",
   "execution_count": 22,
   "source": [
    "np.max(temp, axis=1)"
   ],
   "outputs": [
    {
     "output_type": "execute_result",
     "data": {
      "text/plain": [
       "array([98, 99, 99, 96])"
      ]
     },
     "metadata": {},
     "execution_count": 22
    }
   ],
   "metadata": {}
  },
  {
   "cell_type": "code",
   "execution_count": 23,
   "source": [
    "# 如果需要统计出某科最高分对应的是哪个同学？\n",
    "# np.argmax(temp, axis=)\n",
    "# np.argmin(temp, axis=)\n",
    "np.argmax(temp)"
   ],
   "outputs": [
    {
     "output_type": "execute_result",
     "data": {
      "text/plain": [
       "7"
      ]
     },
     "metadata": {},
     "execution_count": 23
    }
   ],
   "metadata": {}
  },
  {
   "cell_type": "code",
   "execution_count": 24,
   "source": [
    "np.argmax(temp, axis=0)"
   ],
   "outputs": [
    {
     "output_type": "execute_result",
     "data": {
      "text/plain": [
       "array([3, 0, 1, 2, 3])"
      ]
     },
     "metadata": {},
     "execution_count": 24
    }
   ],
   "metadata": {}
  },
  {
   "cell_type": "code",
   "execution_count": 25,
   "source": [
    "np.argmin(temp, axis=0)"
   ],
   "outputs": [
    {
     "output_type": "execute_result",
     "data": {
      "text/plain": [
       "array([2, 3, 3, 0, 0])"
      ]
     },
     "metadata": {},
     "execution_count": 25
    }
   ],
   "metadata": {}
  },
  {
   "cell_type": "code",
   "execution_count": null,
   "source": [],
   "outputs": [],
   "metadata": {}
  }
 ],
 "metadata": {
  "orig_nbformat": 4,
  "language_info": {
   "name": "python",
   "version": "3.6.13",
   "mimetype": "text/x-python",
   "codemirror_mode": {
    "name": "ipython",
    "version": 3
   },
   "pygments_lexer": "ipython3",
   "nbconvert_exporter": "python",
   "file_extension": ".py"
  },
  "kernelspec": {
   "name": "python3",
   "display_name": "Python 3.6.13 64-bit ('RockLab': conda)"
  },
  "interpreter": {
   "hash": "5e2cd2ed858fc56d670a29970c9348e3e3b538090da2cc614f95d4c3dc2e6761"
  }
 },
 "nbformat": 4,
 "nbformat_minor": 2
}